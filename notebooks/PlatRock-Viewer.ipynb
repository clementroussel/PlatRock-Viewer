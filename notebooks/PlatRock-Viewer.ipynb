{
 "cells": [
  {
   "cell_type": "code",
   "execution_count": 1,
   "id": "93e78494-9a1a-4baa-85b6-5ac65de514e8",
   "metadata": {},
   "outputs": [],
   "source": [
    "import os\n",
    "os.chdir(\"../src/main/python/\")"
   ]
  },
  {
   "cell_type": "markdown",
   "id": "e4f1d737-9742-4cd8-a4ec-6ed7577c3223",
   "metadata": {},
   "source": [
    "# PlatRock Viewer"
   ]
  },
  {
   "cell_type": "code",
   "execution_count": 2,
   "id": "c50b51bc-accb-4cf0-a072-8a8ef57978b3",
   "metadata": {},
   "outputs": [],
   "source": [
    "from platrock_viewer import PlatRockViewer"
   ]
  },
  {
   "cell_type": "code",
   "execution_count": 3,
   "id": "0abe1572-3ee3-40b8-9d7b-84f4918aaff2",
   "metadata": {},
   "outputs": [],
   "source": [
    "viewer = PlatRockViewer()"
   ]
  },
  {
   "cell_type": "code",
   "execution_count": 4,
   "id": "1123af9b-b0f6-44e3-b3e3-de45000d4b66",
   "metadata": {},
   "outputs": [
    {
     "data": {
      "text/plain": [
       "<platrock_viewer.PlatRockViewer at 0x1393ed85a60>"
      ]
     },
     "execution_count": 4,
     "metadata": {},
     "output_type": "execute_result"
    }
   ],
   "source": [
    "viewer"
   ]
  },
  {
   "cell_type": "code",
   "execution_count": null,
   "id": "b3620118-a6d1-4321-94b5-5fa0e2bc01c3",
   "metadata": {},
   "outputs": [],
   "source": []
  }
 ],
 "metadata": {
  "kernelspec": {
   "display_name": "Python 3 (ipykernel)",
   "language": "python",
   "name": "python3"
  },
  "language_info": {
   "codemirror_mode": {
    "name": "ipython",
    "version": 3
   },
   "file_extension": ".py",
   "mimetype": "text/x-python",
   "name": "python",
   "nbconvert_exporter": "python",
   "pygments_lexer": "ipython3",
   "version": "3.8.13"
  }
 },
 "nbformat": 4,
 "nbformat_minor": 5
}
